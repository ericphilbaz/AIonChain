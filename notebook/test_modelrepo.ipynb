{
 "cells": [
  {
   "cell_type": "code",
   "execution_count": 1,
   "metadata": {},
   "outputs": [],
   "source": [
    "import json\n",
    "import copy\n",
    "from web3 import Web3,HTTPProvider"
   ]
  },
  {
   "cell_type": "code",
   "execution_count": 29,
   "metadata": {},
   "outputs": [],
   "source": [
    "web3 = Web3(Web3.HTTPProvider('http://192.168.31.50:9545'))"
   ]
  },
  {
   "cell_type": "code",
   "execution_count": 30,
   "metadata": {},
   "outputs": [
    {
     "data": {
      "text/plain": [
       "['0xDe560d0FAC79E7d35e58BBf3BB2f138586975Ecc',\n",
       " '0xBEC2A0dBbA58C3B52CBb12690113eA43CE42E27c',\n",
       " '0xb20D15F5D7AD18edBa27018bA9BF6C0c9Cb25CCD',\n",
       " '0x0AE90087a3A8b85e25E9f7eBf10E260A2EB57d2D',\n",
       " '0xA868386f043517ba163Ae9fC16FC1ceE5d0fAe54',\n",
       " '0xdb1d4624DCF81F67a529Ac72C440A8b10ad0E378',\n",
       " '0xdEDc486F54ce9d2A27918cd201e3A7B725244797',\n",
       " '0x0CF06A81204B04C451ECD913a3c95A723FB19AE7',\n",
       " '0x8a42e80A595Cd6008441ced671f4cb7537b69De2',\n",
       " '0xa4B2D413BbC1ec191db9bDAc46cE4E886507F494']"
      ]
     },
     "execution_count": 30,
     "metadata": {},
     "output_type": "execute_result"
    }
   ],
   "source": [
    "accounts = web3.eth.accounts\n",
    "accounts"
   ]
  },
  {
   "cell_type": "markdown",
   "metadata": {},
   "source": [
    "#### 打开build/contracts/ModelRepo.json\n",
    "1. 找到 abi部分，放到http://www.bejson.com/jsoneditoronline/ 中格式化一下， 去掉 “abi“， 和最后面的 \",\"\n",
    "2. 将格式化后的内容放到 ./abis/ModelRepo.abi 中"
   ]
  },
  {
   "cell_type": "code",
   "execution_count": 80,
   "metadata": {},
   "outputs": [],
   "source": [
    "class ModelRepository():\n",
    "\n",
    "    def __init__(self, contract_address, account=None):\n",
    " \n",
    "       \n",
    "        self.web3 = Web3(Web3.HTTPProvider('http://192.168.31.245:9545'))\n",
    "\n",
    "        if account is not None:\n",
    "            self.account = account\n",
    "        else:\n",
    "            print(\"No account submitted... using default[2]\")\n",
    "            self.account = self.web3.eth.accounts[2]\n",
    "\n",
    "        self.connect_to_contract(contract_address)\n",
    "\n",
    "    def connect_to_contract(self, contract_address):\n",
    "        \"\"\"Connects to the Sonar contract using its address and ABI\"\"\"\n",
    "\n",
    "        f = open('./abis/ModelRepo.abi', 'r')\n",
    "        abi = json.loads(f.read())\n",
    "        f.close()\n",
    "\n",
    "        self.contract = self.web3.eth.contract(abi=abi, address=contract_address)\n",
    "\n",
    "        self.contract_address = contract_address\n",
    "\n",
    "        print(\"Connected to OpenMined ModelRepository:\" +\n",
    "              str(self.contract_address))\n"
   ]
  },
  {
   "cell_type": "markdown",
   "metadata": {},
   "source": [
    "#### 打开build/contracts/ModelRepo.json\n",
    " 找到 \"networks\": {\n",
    "    \"5777\": {\n",
    "      \"events\": {},\n",
    "      \"links\": {},\n",
    "      \"address\": \"0x323E652A65aA1a96E270b9f8B3e3BB2Edb49EBf3\",\n",
    "      \"transactionHash\": \"xxx\"\n",
    "    }\n",
    " \"address\": \"0x7034cE25eC9401B6F676ef296B7231a3840F65b5\" 就是合约地址：  0x323E652A65aA1a96E270b9f8B3e3BB2Edb49EBf3\n",
    " \n",
    " 0x323E652A65aA1a96E270b9f8B3e3BB2Edb49EBf3"
   ]
  },
  {
   "cell_type": "code",
   "execution_count": 81,
   "metadata": {},
   "outputs": [],
   "source": [
    "contract_address = \"0x323E652A65aA1a96E270b9f8B3e3BB2Edb49EBf3\""
   ]
  },
  {
   "cell_type": "code",
   "execution_count": 82,
   "metadata": {},
   "outputs": [
    {
     "name": "stdout",
     "output_type": "stream",
     "text": [
      "No account submitted... using default[2]\n",
      "Connected to OpenMined ModelRepository:0x323E652A65aA1a96E270b9f8B3e3BB2Edb49EBf3\n"
     ]
    }
   ],
   "source": [
    "repo = ModelRepository(contract_address = contract_address)"
   ]
  },
  {
   "cell_type": "code",
   "execution_count": 93,
   "metadata": {},
   "outputs": [
    {
     "data": {
      "text/plain": [
       "26792"
      ]
     },
     "execution_count": 93,
     "metadata": {},
     "output_type": "execute_result"
    }
   ],
   "source": [
    "gas_estimate = repo.contract.functions.setInitErr(383).estimateGas()\n",
    "gas_estimate"
   ]
  },
  {
   "cell_type": "markdown",
   "metadata": {},
   "source": [
    "### set 方法"
   ]
  },
  {
   "cell_type": "code",
   "execution_count": 97,
   "metadata": {
    "scrolled": true
   },
   "outputs": [
    {
     "data": {
      "text/plain": [
       "HexBytes('0xf9572b03c13aa79fd90613e9420cb6c9d6dd74b5758c5675f8ade3745b258696')"
      ]
     },
     "execution_count": 97,
     "metadata": {},
     "output_type": "execute_result"
    }
   ],
   "source": [
    "txn = {}\n",
    "txn[\"from\"] = repo.account\n",
    "txn[\"to\"] = repo.contract_address\n",
    "\n",
    "repo.contract.functions.setInitErr(444).transact(txn)"
   ]
  },
  {
   "cell_type": "markdown",
   "metadata": {},
   "source": [
    "### get 方法"
   ]
  },
  {
   "cell_type": "code",
   "execution_count": 101,
   "metadata": {},
   "outputs": [
    {
     "data": {
      "text/plain": [
       "111"
      ]
     },
     "execution_count": 101,
     "metadata": {},
     "output_type": "execute_result"
    }
   ],
   "source": [
    "repo.contract.caller.getModelInitErr()"
   ]
  },
  {
   "cell_type": "code",
   "execution_count": 99,
   "metadata": {},
   "outputs": [
    {
     "data": {
      "text/plain": [
       "HexBytes('0x5ea1b9bfb78181d1a93a3ca32280d84065e307ded45721e0944fc05d84a39f7c')"
      ]
     },
     "execution_count": 99,
     "metadata": {},
     "output_type": "execute_result"
    }
   ],
   "source": [
    "repo.contract.functions.setModel(111,222).transact(txn)"
   ]
  },
  {
   "cell_type": "code",
   "execution_count": 100,
   "metadata": {
    "scrolled": true
   },
   "outputs": [
    {
     "data": {
      "text/plain": [
       "['0xb20D15F5D7AD18edBa27018bA9BF6C0c9Cb25CCD', 111, 222]"
      ]
     },
     "execution_count": 100,
     "metadata": {},
     "output_type": "execute_result"
    }
   ],
   "source": [
    "repo.contract.caller.getModel()"
   ]
  },
  {
   "cell_type": "code",
   "execution_count": null,
   "metadata": {},
   "outputs": [],
   "source": []
  }
 ],
 "metadata": {
  "kernelspec": {
   "display_name": "Python 3",
   "language": "python",
   "name": "python3"
  },
  "language_info": {
   "codemirror_mode": {
    "name": "ipython",
    "version": 3
   },
   "file_extension": ".py",
   "mimetype": "text/x-python",
   "name": "python",
   "nbconvert_exporter": "python",
   "pygments_lexer": "ipython3",
   "version": "3.6.9"
  }
 },
 "nbformat": 4,
 "nbformat_minor": 2
}
